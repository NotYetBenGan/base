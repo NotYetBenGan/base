{
 "cells": [
  {
   "cell_type": "markdown",
   "id": "02f3d42d-3ea4-4435-9f3f-0ea4b6e5ad24",
   "metadata": {},
   "source": [
    "## Preparation:"
   ]
  },
  {
   "cell_type": "code",
   "execution_count": 421,
   "id": "ac72c5e5-8f22-465f-84fe-e0f83ba5769c",
   "metadata": {
    "tags": []
   },
   "outputs": [],
   "source": [
    "import numpy as np\n",
    "import pandas as pd\n",
    "from sklearn.feature_extraction import DictVectorizer\n",
    "from sklearn.linear_model import LogisticRegression, Ridge\n",
    "from sklearn.model_selection import train_test_split\n",
    "from sklearn.metrics import mutual_info_score, accuracy_score, roc_auc_score, mean_squared_error\n",
    "import matplotlib.pyplot as plt\n",
    "import seaborn as sns\n",
    "%matplotlib inline\n",
    "from IPython.display import display"
   ]
  },
  {
   "cell_type": "code",
   "execution_count": 371,
   "id": "6291495e-b75a-4d04-8384-7e3efde7ce78",
   "metadata": {
    "tags": []
   },
   "outputs": [],
   "source": [
    "train = pd.read_csv(r'https://github.com/NotYetBenGan/base/raw/main/MLZoomCamp/MidtermProject/train.csv')\n",
    "test = pd.read_csv(r'https://github.com/NotYetBenGan/base/raw/main/MLZoomCamp/MidtermProject/test.csv')"
   ]
  },
  {
   "cell_type": "code",
   "execution_count": 372,
   "id": "ffa79f36-bb43-420a-b860-7adebd1c8f9c",
   "metadata": {
    "tags": []
   },
   "outputs": [
    {
     "data": {
      "text/html": [
       "<div>\n",
       "<style scoped>\n",
       "    .dataframe tbody tr th:only-of-type {\n",
       "        vertical-align: middle;\n",
       "    }\n",
       "\n",
       "    .dataframe tbody tr th {\n",
       "        vertical-align: top;\n",
       "    }\n",
       "\n",
       "    .dataframe thead th {\n",
       "        text-align: right;\n",
       "    }\n",
       "</style>\n",
       "<table border=\"1\" class=\"dataframe\">\n",
       "  <thead>\n",
       "    <tr style=\"text-align: right;\">\n",
       "      <th></th>\n",
       "      <th>AccountAge</th>\n",
       "      <th>MonthlyCharges</th>\n",
       "      <th>TotalCharges</th>\n",
       "      <th>SubscriptionType</th>\n",
       "      <th>PaymentMethod</th>\n",
       "      <th>PaperlessBilling</th>\n",
       "      <th>ContentType</th>\n",
       "      <th>MultiDeviceAccess</th>\n",
       "      <th>DeviceRegistered</th>\n",
       "      <th>ViewingHoursPerWeek</th>\n",
       "      <th>...</th>\n",
       "      <th>ContentDownloadsPerMonth</th>\n",
       "      <th>GenrePreference</th>\n",
       "      <th>UserRating</th>\n",
       "      <th>SupportTicketsPerMonth</th>\n",
       "      <th>Gender</th>\n",
       "      <th>WatchlistSize</th>\n",
       "      <th>ParentalControl</th>\n",
       "      <th>SubtitlesEnabled</th>\n",
       "      <th>CustomerID</th>\n",
       "      <th>Churn</th>\n",
       "    </tr>\n",
       "  </thead>\n",
       "  <tbody>\n",
       "    <tr>\n",
       "      <th>0</th>\n",
       "      <td>20</td>\n",
       "      <td>11.055215</td>\n",
       "      <td>221.104302</td>\n",
       "      <td>Premium</td>\n",
       "      <td>Mailed check</td>\n",
       "      <td>No</td>\n",
       "      <td>Both</td>\n",
       "      <td>No</td>\n",
       "      <td>Mobile</td>\n",
       "      <td>36.758104</td>\n",
       "      <td>...</td>\n",
       "      <td>10</td>\n",
       "      <td>Sci-Fi</td>\n",
       "      <td>2.176498</td>\n",
       "      <td>4</td>\n",
       "      <td>Male</td>\n",
       "      <td>3</td>\n",
       "      <td>No</td>\n",
       "      <td>No</td>\n",
       "      <td>CB6SXPNVZA</td>\n",
       "      <td>0</td>\n",
       "    </tr>\n",
       "    <tr>\n",
       "      <th>1</th>\n",
       "      <td>57</td>\n",
       "      <td>5.175208</td>\n",
       "      <td>294.986882</td>\n",
       "      <td>Basic</td>\n",
       "      <td>Credit card</td>\n",
       "      <td>Yes</td>\n",
       "      <td>Movies</td>\n",
       "      <td>No</td>\n",
       "      <td>Tablet</td>\n",
       "      <td>32.450568</td>\n",
       "      <td>...</td>\n",
       "      <td>18</td>\n",
       "      <td>Action</td>\n",
       "      <td>3.478632</td>\n",
       "      <td>8</td>\n",
       "      <td>Male</td>\n",
       "      <td>23</td>\n",
       "      <td>No</td>\n",
       "      <td>Yes</td>\n",
       "      <td>S7R2G87O09</td>\n",
       "      <td>0</td>\n",
       "    </tr>\n",
       "    <tr>\n",
       "      <th>2</th>\n",
       "      <td>73</td>\n",
       "      <td>12.106657</td>\n",
       "      <td>883.785952</td>\n",
       "      <td>Basic</td>\n",
       "      <td>Mailed check</td>\n",
       "      <td>Yes</td>\n",
       "      <td>Movies</td>\n",
       "      <td>No</td>\n",
       "      <td>Computer</td>\n",
       "      <td>7.395160</td>\n",
       "      <td>...</td>\n",
       "      <td>23</td>\n",
       "      <td>Fantasy</td>\n",
       "      <td>4.238824</td>\n",
       "      <td>6</td>\n",
       "      <td>Male</td>\n",
       "      <td>1</td>\n",
       "      <td>Yes</td>\n",
       "      <td>Yes</td>\n",
       "      <td>EASDC20BDT</td>\n",
       "      <td>0</td>\n",
       "    </tr>\n",
       "    <tr>\n",
       "      <th>3</th>\n",
       "      <td>32</td>\n",
       "      <td>7.263743</td>\n",
       "      <td>232.439774</td>\n",
       "      <td>Basic</td>\n",
       "      <td>Electronic check</td>\n",
       "      <td>No</td>\n",
       "      <td>TV Shows</td>\n",
       "      <td>No</td>\n",
       "      <td>Tablet</td>\n",
       "      <td>27.960389</td>\n",
       "      <td>...</td>\n",
       "      <td>30</td>\n",
       "      <td>Drama</td>\n",
       "      <td>4.276013</td>\n",
       "      <td>2</td>\n",
       "      <td>Male</td>\n",
       "      <td>24</td>\n",
       "      <td>Yes</td>\n",
       "      <td>Yes</td>\n",
       "      <td>NPF69NT69N</td>\n",
       "      <td>0</td>\n",
       "    </tr>\n",
       "    <tr>\n",
       "      <th>4</th>\n",
       "      <td>57</td>\n",
       "      <td>16.953078</td>\n",
       "      <td>966.325422</td>\n",
       "      <td>Premium</td>\n",
       "      <td>Electronic check</td>\n",
       "      <td>Yes</td>\n",
       "      <td>TV Shows</td>\n",
       "      <td>No</td>\n",
       "      <td>TV</td>\n",
       "      <td>20.083397</td>\n",
       "      <td>...</td>\n",
       "      <td>20</td>\n",
       "      <td>Comedy</td>\n",
       "      <td>3.616170</td>\n",
       "      <td>4</td>\n",
       "      <td>Female</td>\n",
       "      <td>0</td>\n",
       "      <td>No</td>\n",
       "      <td>No</td>\n",
       "      <td>4LGYPK7VOL</td>\n",
       "      <td>0</td>\n",
       "    </tr>\n",
       "  </tbody>\n",
       "</table>\n",
       "<p>5 rows × 21 columns</p>\n",
       "</div>"
      ],
      "text/plain": [
       "   AccountAge  MonthlyCharges  TotalCharges SubscriptionType  \\\n",
       "0          20       11.055215    221.104302          Premium   \n",
       "1          57        5.175208    294.986882            Basic   \n",
       "2          73       12.106657    883.785952            Basic   \n",
       "3          32        7.263743    232.439774            Basic   \n",
       "4          57       16.953078    966.325422          Premium   \n",
       "\n",
       "      PaymentMethod PaperlessBilling ContentType MultiDeviceAccess  \\\n",
       "0      Mailed check               No        Both                No   \n",
       "1       Credit card              Yes      Movies                No   \n",
       "2      Mailed check              Yes      Movies                No   \n",
       "3  Electronic check               No    TV Shows                No   \n",
       "4  Electronic check              Yes    TV Shows                No   \n",
       "\n",
       "  DeviceRegistered  ViewingHoursPerWeek  ...  ContentDownloadsPerMonth  \\\n",
       "0           Mobile            36.758104  ...                        10   \n",
       "1           Tablet            32.450568  ...                        18   \n",
       "2         Computer             7.395160  ...                        23   \n",
       "3           Tablet            27.960389  ...                        30   \n",
       "4               TV            20.083397  ...                        20   \n",
       "\n",
       "   GenrePreference UserRating  SupportTicketsPerMonth  Gender WatchlistSize  \\\n",
       "0           Sci-Fi   2.176498                       4    Male             3   \n",
       "1           Action   3.478632                       8    Male            23   \n",
       "2          Fantasy   4.238824                       6    Male             1   \n",
       "3            Drama   4.276013                       2    Male            24   \n",
       "4           Comedy   3.616170                       4  Female             0   \n",
       "\n",
       "   ParentalControl SubtitlesEnabled  CustomerID Churn  \n",
       "0               No               No  CB6SXPNVZA     0  \n",
       "1               No              Yes  S7R2G87O09     0  \n",
       "2              Yes              Yes  EASDC20BDT     0  \n",
       "3              Yes              Yes  NPF69NT69N     0  \n",
       "4               No               No  4LGYPK7VOL     0  \n",
       "\n",
       "[5 rows x 21 columns]"
      ]
     },
     "execution_count": 372,
     "metadata": {},
     "output_type": "execute_result"
    }
   ],
   "source": [
    "train.head()"
   ]
  },
  {
   "cell_type": "code",
   "execution_count": 373,
   "id": "e90cebdb-ac11-41c5-86de-d0e343f44624",
   "metadata": {
    "tags": []
   },
   "outputs": [
    {
     "data": {
      "text/html": [
       "<div>\n",
       "<style scoped>\n",
       "    .dataframe tbody tr th:only-of-type {\n",
       "        vertical-align: middle;\n",
       "    }\n",
       "\n",
       "    .dataframe tbody tr th {\n",
       "        vertical-align: top;\n",
       "    }\n",
       "\n",
       "    .dataframe thead th {\n",
       "        text-align: right;\n",
       "    }\n",
       "</style>\n",
       "<table border=\"1\" class=\"dataframe\">\n",
       "  <thead>\n",
       "    <tr style=\"text-align: right;\">\n",
       "      <th></th>\n",
       "      <th>AccountAge</th>\n",
       "      <th>MonthlyCharges</th>\n",
       "      <th>TotalCharges</th>\n",
       "      <th>SubscriptionType</th>\n",
       "      <th>PaymentMethod</th>\n",
       "      <th>PaperlessBilling</th>\n",
       "      <th>ContentType</th>\n",
       "      <th>MultiDeviceAccess</th>\n",
       "      <th>DeviceRegistered</th>\n",
       "      <th>ViewingHoursPerWeek</th>\n",
       "      <th>AverageViewingDuration</th>\n",
       "      <th>ContentDownloadsPerMonth</th>\n",
       "      <th>GenrePreference</th>\n",
       "      <th>UserRating</th>\n",
       "      <th>SupportTicketsPerMonth</th>\n",
       "      <th>Gender</th>\n",
       "      <th>WatchlistSize</th>\n",
       "      <th>ParentalControl</th>\n",
       "      <th>SubtitlesEnabled</th>\n",
       "      <th>CustomerID</th>\n",
       "    </tr>\n",
       "  </thead>\n",
       "  <tbody>\n",
       "    <tr>\n",
       "      <th>0</th>\n",
       "      <td>38</td>\n",
       "      <td>17.869374</td>\n",
       "      <td>679.036195</td>\n",
       "      <td>Premium</td>\n",
       "      <td>Mailed check</td>\n",
       "      <td>No</td>\n",
       "      <td>TV Shows</td>\n",
       "      <td>No</td>\n",
       "      <td>TV</td>\n",
       "      <td>29.126308</td>\n",
       "      <td>122.274031</td>\n",
       "      <td>42</td>\n",
       "      <td>Comedy</td>\n",
       "      <td>3.522724</td>\n",
       "      <td>2</td>\n",
       "      <td>Male</td>\n",
       "      <td>23</td>\n",
       "      <td>No</td>\n",
       "      <td>No</td>\n",
       "      <td>O1W6BHP6RM</td>\n",
       "    </tr>\n",
       "    <tr>\n",
       "      <th>1</th>\n",
       "      <td>77</td>\n",
       "      <td>9.912854</td>\n",
       "      <td>763.289768</td>\n",
       "      <td>Basic</td>\n",
       "      <td>Electronic check</td>\n",
       "      <td>Yes</td>\n",
       "      <td>TV Shows</td>\n",
       "      <td>No</td>\n",
       "      <td>TV</td>\n",
       "      <td>36.873729</td>\n",
       "      <td>57.093319</td>\n",
       "      <td>43</td>\n",
       "      <td>Action</td>\n",
       "      <td>2.021545</td>\n",
       "      <td>2</td>\n",
       "      <td>Female</td>\n",
       "      <td>22</td>\n",
       "      <td>Yes</td>\n",
       "      <td>No</td>\n",
       "      <td>LFR4X92X8H</td>\n",
       "    </tr>\n",
       "    <tr>\n",
       "      <th>2</th>\n",
       "      <td>5</td>\n",
       "      <td>15.019011</td>\n",
       "      <td>75.095057</td>\n",
       "      <td>Standard</td>\n",
       "      <td>Bank transfer</td>\n",
       "      <td>No</td>\n",
       "      <td>TV Shows</td>\n",
       "      <td>Yes</td>\n",
       "      <td>Computer</td>\n",
       "      <td>7.601729</td>\n",
       "      <td>140.414001</td>\n",
       "      <td>14</td>\n",
       "      <td>Sci-Fi</td>\n",
       "      <td>4.806126</td>\n",
       "      <td>2</td>\n",
       "      <td>Female</td>\n",
       "      <td>22</td>\n",
       "      <td>No</td>\n",
       "      <td>Yes</td>\n",
       "      <td>QM5GBIYODA</td>\n",
       "    </tr>\n",
       "    <tr>\n",
       "      <th>3</th>\n",
       "      <td>88</td>\n",
       "      <td>15.357406</td>\n",
       "      <td>1351.451692</td>\n",
       "      <td>Standard</td>\n",
       "      <td>Electronic check</td>\n",
       "      <td>No</td>\n",
       "      <td>Both</td>\n",
       "      <td>Yes</td>\n",
       "      <td>Tablet</td>\n",
       "      <td>35.586430</td>\n",
       "      <td>177.002419</td>\n",
       "      <td>14</td>\n",
       "      <td>Comedy</td>\n",
       "      <td>4.943900</td>\n",
       "      <td>0</td>\n",
       "      <td>Female</td>\n",
       "      <td>23</td>\n",
       "      <td>Yes</td>\n",
       "      <td>Yes</td>\n",
       "      <td>D9RXTK2K9F</td>\n",
       "    </tr>\n",
       "    <tr>\n",
       "      <th>4</th>\n",
       "      <td>91</td>\n",
       "      <td>12.406033</td>\n",
       "      <td>1128.949004</td>\n",
       "      <td>Standard</td>\n",
       "      <td>Credit card</td>\n",
       "      <td>Yes</td>\n",
       "      <td>TV Shows</td>\n",
       "      <td>Yes</td>\n",
       "      <td>Tablet</td>\n",
       "      <td>23.503651</td>\n",
       "      <td>70.308376</td>\n",
       "      <td>6</td>\n",
       "      <td>Drama</td>\n",
       "      <td>2.846880</td>\n",
       "      <td>6</td>\n",
       "      <td>Female</td>\n",
       "      <td>0</td>\n",
       "      <td>No</td>\n",
       "      <td>No</td>\n",
       "      <td>ENTCCHR1LR</td>\n",
       "    </tr>\n",
       "  </tbody>\n",
       "</table>\n",
       "</div>"
      ],
      "text/plain": [
       "   AccountAge  MonthlyCharges  TotalCharges SubscriptionType  \\\n",
       "0          38       17.869374    679.036195          Premium   \n",
       "1          77        9.912854    763.289768            Basic   \n",
       "2           5       15.019011     75.095057         Standard   \n",
       "3          88       15.357406   1351.451692         Standard   \n",
       "4          91       12.406033   1128.949004         Standard   \n",
       "\n",
       "      PaymentMethod PaperlessBilling ContentType MultiDeviceAccess  \\\n",
       "0      Mailed check               No    TV Shows                No   \n",
       "1  Electronic check              Yes    TV Shows                No   \n",
       "2     Bank transfer               No    TV Shows               Yes   \n",
       "3  Electronic check               No        Both               Yes   \n",
       "4       Credit card              Yes    TV Shows               Yes   \n",
       "\n",
       "  DeviceRegistered  ViewingHoursPerWeek  AverageViewingDuration  \\\n",
       "0               TV            29.126308              122.274031   \n",
       "1               TV            36.873729               57.093319   \n",
       "2         Computer             7.601729              140.414001   \n",
       "3           Tablet            35.586430              177.002419   \n",
       "4           Tablet            23.503651               70.308376   \n",
       "\n",
       "   ContentDownloadsPerMonth GenrePreference  UserRating  \\\n",
       "0                        42          Comedy    3.522724   \n",
       "1                        43          Action    2.021545   \n",
       "2                        14          Sci-Fi    4.806126   \n",
       "3                        14          Comedy    4.943900   \n",
       "4                         6           Drama    2.846880   \n",
       "\n",
       "   SupportTicketsPerMonth  Gender  WatchlistSize ParentalControl  \\\n",
       "0                       2    Male             23              No   \n",
       "1                       2  Female             22             Yes   \n",
       "2                       2  Female             22              No   \n",
       "3                       0  Female             23             Yes   \n",
       "4                       6  Female              0              No   \n",
       "\n",
       "  SubtitlesEnabled  CustomerID  \n",
       "0               No  O1W6BHP6RM  \n",
       "1               No  LFR4X92X8H  \n",
       "2              Yes  QM5GBIYODA  \n",
       "3              Yes  D9RXTK2K9F  \n",
       "4               No  ENTCCHR1LR  "
      ]
     },
     "execution_count": 373,
     "metadata": {},
     "output_type": "execute_result"
    }
   ],
   "source": [
    "test.head()"
   ]
  },
  {
   "cell_type": "markdown",
   "id": "efe93741-7b4d-4af8-9af1-c9f53b092f69",
   "metadata": {},
   "source": [
    "# Exploratory data analysis "
   ]
  },
  {
   "cell_type": "code",
   "execution_count": 374,
   "id": "b7d9f2b2-f1e5-4a0e-8db0-6dd319229b33",
   "metadata": {
    "tags": []
   },
   "outputs": [
    {
     "name": "stdout",
     "output_type": "stream",
     "text": [
      "<class 'pandas.core.frame.DataFrame'>\n",
      "RangeIndex: 146000 entries, 0 to 145999\n",
      "Data columns (total 21 columns):\n",
      " #   Column                    Non-Null Count   Dtype  \n",
      "---  ------                    --------------   -----  \n",
      " 0   AccountAge                146000 non-null  int64  \n",
      " 1   MonthlyCharges            146000 non-null  float64\n",
      " 2   TotalCharges              146000 non-null  float64\n",
      " 3   SubscriptionType          146000 non-null  object \n",
      " 4   PaymentMethod             146000 non-null  object \n",
      " 5   PaperlessBilling          146000 non-null  object \n",
      " 6   ContentType               146000 non-null  object \n",
      " 7   MultiDeviceAccess         146000 non-null  object \n",
      " 8   DeviceRegistered          146000 non-null  object \n",
      " 9   ViewingHoursPerWeek       146000 non-null  float64\n",
      " 10  AverageViewingDuration    146000 non-null  float64\n",
      " 11  ContentDownloadsPerMonth  146000 non-null  int64  \n",
      " 12  GenrePreference           146000 non-null  object \n",
      " 13  UserRating                146000 non-null  float64\n",
      " 14  SupportTicketsPerMonth    146000 non-null  int64  \n",
      " 15  Gender                    146000 non-null  object \n",
      " 16  WatchlistSize             146000 non-null  int64  \n",
      " 17  ParentalControl           146000 non-null  object \n",
      " 18  SubtitlesEnabled          146000 non-null  object \n",
      " 19  CustomerID                146000 non-null  object \n",
      " 20  Churn                     146000 non-null  int64  \n",
      "dtypes: float64(5), int64(5), object(11)\n",
      "memory usage: 23.4+ MB\n"
     ]
    }
   ],
   "source": [
    "train.info()"
   ]
  },
  {
   "cell_type": "code",
   "execution_count": 375,
   "id": "1efcadcc-5e7d-4ca0-b06f-60ab6a9e2a70",
   "metadata": {
    "tags": []
   },
   "outputs": [
    {
     "data": {
      "text/plain": [
       "AccountAge                  0\n",
       "MonthlyCharges              0\n",
       "TotalCharges                0\n",
       "SubscriptionType            0\n",
       "PaymentMethod               0\n",
       "PaperlessBilling            0\n",
       "ContentType                 0\n",
       "MultiDeviceAccess           0\n",
       "DeviceRegistered            0\n",
       "ViewingHoursPerWeek         0\n",
       "AverageViewingDuration      0\n",
       "ContentDownloadsPerMonth    0\n",
       "GenrePreference             0\n",
       "UserRating                  0\n",
       "SupportTicketsPerMonth      0\n",
       "Gender                      0\n",
       "WatchlistSize               0\n",
       "ParentalControl             0\n",
       "SubtitlesEnabled            0\n",
       "CustomerID                  0\n",
       "Churn                       0\n",
       "dtype: int64"
      ]
     },
     "execution_count": 375,
     "metadata": {},
     "output_type": "execute_result"
    }
   ],
   "source": [
    "train.isnull().sum()"
   ]
  },
  {
   "cell_type": "code",
   "execution_count": 376,
   "id": "4aad9218-9206-46d0-b895-a216660699d0",
   "metadata": {
    "tags": []
   },
   "outputs": [
    {
     "data": {
      "text/plain": [
       "AccountAge                    int64\n",
       "MonthlyCharges              float64\n",
       "TotalCharges                float64\n",
       "SubscriptionType             object\n",
       "PaymentMethod                object\n",
       "PaperlessBilling             object\n",
       "ContentType                  object\n",
       "MultiDeviceAccess            object\n",
       "DeviceRegistered             object\n",
       "ViewingHoursPerWeek         float64\n",
       "AverageViewingDuration      float64\n",
       "ContentDownloadsPerMonth      int64\n",
       "GenrePreference              object\n",
       "UserRating                  float64\n",
       "SupportTicketsPerMonth        int64\n",
       "Gender                       object\n",
       "WatchlistSize                 int64\n",
       "ParentalControl              object\n",
       "SubtitlesEnabled             object\n",
       "CustomerID                   object\n",
       "Churn                         int64\n",
       "dtype: object"
      ]
     },
     "execution_count": 376,
     "metadata": {},
     "output_type": "execute_result"
    }
   ],
   "source": [
    "train.dtypes"
   ]
  },
  {
   "cell_type": "code",
   "execution_count": 377,
   "id": "8b6c7f17-253b-4cdd-9233-5f4cd3113b78",
   "metadata": {
    "tags": []
   },
   "outputs": [
    {
     "name": "stdout",
     "output_type": "stream",
     "text": [
      "SubscriptionType - 3\n",
      "PaymentMethod - 4\n",
      "PaperlessBilling - 2\n",
      "ContentType - 3\n",
      "MultiDeviceAccess - 2\n",
      "DeviceRegistered - 4\n",
      "GenrePreference - 5\n",
      "Gender - 2\n",
      "ParentalControl - 2\n",
      "SubtitlesEnabled - 2\n"
     ]
    }
   ],
   "source": [
    "categorical = list(train.select_dtypes(include=['object']).dtypes.index)\n",
    "categorical.remove('CustomerID')\n",
    "for col in categorical:\n",
    "    print(col + ' - ' + str(train[col].nunique()))"
   ]
  },
  {
   "cell_type": "code",
   "execution_count": 378,
   "id": "7202caea-68cc-4927-9244-46d8fed78a08",
   "metadata": {
    "tags": []
   },
   "outputs": [
    {
     "name": "stdout",
     "output_type": "stream",
     "text": [
      "AccountAge - 119\n",
      "MonthlyCharges - 146000\n",
      "TotalCharges - 146000\n",
      "ViewingHoursPerWeek - 146000\n",
      "AverageViewingDuration - 146000\n",
      "ContentDownloadsPerMonth - 50\n",
      "UserRating - 146000\n",
      "SupportTicketsPerMonth - 10\n",
      "WatchlistSize - 25\n"
     ]
    }
   ],
   "source": [
    "numerical = list(train.select_dtypes(include=['int','float']).dtypes.index)\n",
    "numerical.remove('Churn')\n",
    "for col in numerical:\n",
    "    print(col + ' - ' + str(train[col].nunique()))"
   ]
  },
  {
   "cell_type": "code",
   "execution_count": 379,
   "id": "00434452-036a-4c1c-bedb-ce582bbc783c",
   "metadata": {
    "tags": []
   },
   "outputs": [
    {
     "data": {
      "image/png": "[encoded data removed]",
      "text/plain": [
       "<Figure size 600x400 with 1 Axes>"
      ]
     },
     "metadata": {},
     "output_type": "display_data"
    }
   ],
   "source": [
    "plt.figure(figsize=(6, 4))\n",
    "\n",
    "sns.histplot(train.ContentDownloadsPerMonth, bins=40, color='black', alpha=1)\n",
    "plt.ylabel('Frequency')\n",
    "plt.xlabel('ContentDownloadsPerMonth')\n",
    "plt.title('Distribution of ContentDownloadsPerMonth')\n",
    "\n",
    "plt.show()"
   ]
  },
  {
   "cell_type": "code",
   "execution_count": 380,
   "id": "3c1067f3-1d4e-4f0d-b709-4103ed5490a0",
   "metadata": {
    "tags": []
   },
   "outputs": [
    {
     "data": {
      "text/plain": [
       "0    119469\n",
       "1     26531\n",
       "Name: Churn, dtype: int64"
      ]
     },
     "execution_count": 380,
     "metadata": {},
     "output_type": "execute_result"
    }
   ],
   "source": [
    "train.Churn.value_counts()"
   ]
  },
  {
   "cell_type": "code",
   "execution_count": 381,
   "id": "6bee81e2-c86f-4744-a340-b217f6298b43",
   "metadata": {
    "tags": []
   },
   "outputs": [
    {
     "data": {
      "text/plain": [
       "0.182"
      ]
     },
     "execution_count": 381,
     "metadata": {},
     "output_type": "execute_result"
    }
   ],
   "source": [
    "global_mean = train.Churn.mean()\n",
    "round(global_mean, 3)"
   ]
  },
  {
   "cell_type": "markdown",
   "id": "4b99fc4c-c69d-4344-94b8-1e5de69a40a9",
   "metadata": {},
   "source": [
    "# Data preparation and data clearning"
   ]
  },
  {
   "cell_type": "code",
   "execution_count": 382,
   "id": "35e31236-a766-45b7-a885-0ddf2d071674",
   "metadata": {
    "tags": []
   },
   "outputs": [],
   "source": [
    "#There are no NULLs in this dataset, so just convert strings to ints\n",
    "train.PaperlessBilling = (train.PaperlessBilling == \"Yes\").astype(int)\n",
    "train.MultiDeviceAccess = (train.MultiDeviceAccess == \"Yes\").astype(int)\n",
    "train.ParentalControl = (train.ParentalControl == \"Yes\").astype(int)\n",
    "train.SubtitlesEnabled = (train.SubtitlesEnabled == \"Yes\").astype(int)\n",
    "\n",
    "test.PaperlessBilling = (test.PaperlessBilling == \"Yes\").astype(int)\n",
    "test.MultiDeviceAccess = (test.MultiDeviceAccess == \"Yes\").astype(int)\n",
    "test.ParentalControl = (test.ParentalControl == \"Yes\").astype(int)\n",
    "test.SubtitlesEnabled = (test.SubtitlesEnabled == \"Yes\").astype(int)"
   ]
  },
  {
   "cell_type": "markdown",
   "id": "b54ddb11-211d-415c-9d85-3a9ff12cbf65",
   "metadata": {},
   "source": [
    "# Validation framework"
   ]
  },
  {
   "cell_type": "code",
   "execution_count": 383,
   "id": "53468830-61fb-46ac-86de-b7bdc8027733",
   "metadata": {
    "tags": []
   },
   "outputs": [],
   "source": [
    "np.random.seed(2)\n",
    "\n",
    "#Let's take 20% of train dataset as val dataset\n",
    "n_train = int(0.8 * len(train))\n",
    "n_val = int(0.2 * len(train))\n",
    "n_test = len(test)\n",
    "\n",
    "idx = np.arange(n_train+n_val)\n",
    "np.random.shuffle(idx)\n",
    "\n",
    "df_shuffled = train.iloc[idx]\n",
    "\n",
    "df_train = df_shuffled.iloc[:n_train].copy()\n",
    "df_val = df_shuffled.iloc[n_train:n_train+n_val].copy()\n",
    "df_test = test.copy()"
   ]
  },
  {
   "cell_type": "code",
   "execution_count": 384,
   "id": "83a89fae-003f-441b-b637-94ec953efe6a",
   "metadata": {
    "tags": []
   },
   "outputs": [],
   "source": [
    "y_train = df_train.Churn.values\n",
    "y_val = df_val.Churn.values"
   ]
  },
  {
   "cell_type": "code",
   "execution_count": 385,
   "id": "4ca3e6cd-a3ff-4aaf-8e57-21c09a3a2c11",
   "metadata": {
    "tags": []
   },
   "outputs": [],
   "source": [
    "del df_train['Churn']\n",
    "del df_val['Churn']"
   ]
  },
  {
   "cell_type": "markdown",
   "id": "7fad4cbd-165d-4de5-b54d-f40e74d6daa0",
   "metadata": {
    "tags": []
   },
   "source": [
    "# Feature importance"
   ]
  },
  {
   "cell_type": "code",
   "execution_count": 386,
   "id": "1cdf3501-ea2a-4271-834d-2c2fecef659a",
   "metadata": {
    "tags": []
   },
   "outputs": [
    {
     "name": "stdout",
     "output_type": "stream",
     "text": [
      "Gender == Female: 0.178\n",
      "Gender == Male:   0.185\n"
     ]
    }
   ],
   "source": [
    "female_mean = train[train.Gender == 'Female'].Churn.mean()\n",
    "print('Gender == Female:', round(female_mean, 3))\n",
    "\n",
    "male_mean = train[train.Gender == 'Male'].Churn.mean()\n",
    "print('Gender == Male:  ', round(male_mean, 3))"
   ]
  },
  {
   "cell_type": "code",
   "execution_count": 387,
   "id": "d206c6b7-832a-49ca-9f3e-f100f39011de",
   "metadata": {
    "tags": []
   },
   "outputs": [
    {
     "data": {
      "text/plain": [
       "Standard    49122\n",
       "Basic       48770\n",
       "Premium     48108\n",
       "Name: SubscriptionType, dtype: int64"
      ]
     },
     "execution_count": 387,
     "metadata": {},
     "output_type": "execute_result"
    }
   ],
   "source": [
    "train.SubscriptionType.value_counts()"
   ]
  },
  {
   "cell_type": "code",
   "execution_count": 388,
   "id": "457a05e7-4006-4400-98b9-baff7c9ea523",
   "metadata": {
    "tags": []
   },
   "outputs": [
    {
     "name": "stdout",
     "output_type": "stream",
     "text": [
      "SubscriptionType == Standard:   0.184\n",
      "SubscriptionType == Basic:   0.197\n",
      "SubscriptionType == Premium:   0.164\n"
     ]
    }
   ],
   "source": [
    "standard_mean = train[train.SubscriptionType == 'Standard'].Churn.mean()\n",
    "print('SubscriptionType == Standard:  ', round(standard_mean, 3))\n",
    "\n",
    "basic_mean = train[train.SubscriptionType == 'Basic'].Churn.mean()\n",
    "print('SubscriptionType == Basic:  ', round(basic_mean, 3))\n",
    "\n",
    "premium_mean = train[train.SubscriptionType == 'Premium'].Churn.mean()\n",
    "print('SubscriptionType == Premium:  ', round(premium_mean, 3))"
   ]
  },
  {
   "cell_type": "code",
   "execution_count": 389,
   "id": "358942c7-860b-456b-8dbe-152f46f0a86b",
   "metadata": {
    "tags": []
   },
   "outputs": [
    {
     "data": {
      "text/html": [
       "<div>\n",
       "<style scoped>\n",
       "    .dataframe tbody tr th:only-of-type {\n",
       "        vertical-align: middle;\n",
       "    }\n",
       "\n",
       "    .dataframe tbody tr th {\n",
       "        vertical-align: top;\n",
       "    }\n",
       "\n",
       "    .dataframe thead th {\n",
       "        text-align: right;\n",
       "    }\n",
       "</style>\n",
       "<table border=\"1\" class=\"dataframe\">\n",
       "  <thead>\n",
       "    <tr style=\"text-align: right;\">\n",
       "      <th></th>\n",
       "      <th>mean</th>\n",
       "      <th>diff</th>\n",
       "      <th>risk</th>\n",
       "    </tr>\n",
       "    <tr>\n",
       "      <th>SubscriptionType</th>\n",
       "      <th></th>\n",
       "      <th></th>\n",
       "      <th></th>\n",
       "    </tr>\n",
       "  </thead>\n",
       "  <tbody>\n",
       "    <tr>\n",
       "      <th>Basic</th>\n",
       "      <td>0.197416</td>\n",
       "      <td>0.015697</td>\n",
       "      <td>1.086382</td>\n",
       "    </tr>\n",
       "    <tr>\n",
       "      <th>Premium</th>\n",
       "      <td>0.163757</td>\n",
       "      <td>-0.017963</td>\n",
       "      <td>0.901152</td>\n",
       "    </tr>\n",
       "    <tr>\n",
       "      <th>Standard</th>\n",
       "      <td>0.183726</td>\n",
       "      <td>0.002007</td>\n",
       "      <td>1.011045</td>\n",
       "    </tr>\n",
       "  </tbody>\n",
       "</table>\n",
       "</div>"
      ],
      "text/plain": [
       "                      mean      diff      risk\n",
       "SubscriptionType                              \n",
       "Basic             0.197416  0.015697  1.086382\n",
       "Premium           0.163757 -0.017963  0.901152\n",
       "Standard          0.183726  0.002007  1.011045"
      ]
     },
     "metadata": {},
     "output_type": "display_data"
    },
    {
     "data": {
      "text/html": [
       "<div>\n",
       "<style scoped>\n",
       "    .dataframe tbody tr th:only-of-type {\n",
       "        vertical-align: middle;\n",
       "    }\n",
       "\n",
       "    .dataframe tbody tr th {\n",
       "        vertical-align: top;\n",
       "    }\n",
       "\n",
       "    .dataframe thead th {\n",
       "        text-align: right;\n",
       "    }\n",
       "</style>\n",
       "<table border=\"1\" class=\"dataframe\">\n",
       "  <thead>\n",
       "    <tr style=\"text-align: right;\">\n",
       "      <th></th>\n",
       "      <th>mean</th>\n",
       "      <th>diff</th>\n",
       "      <th>risk</th>\n",
       "    </tr>\n",
       "    <tr>\n",
       "      <th>PaymentMethod</th>\n",
       "      <th></th>\n",
       "      <th></th>\n",
       "      <th></th>\n",
       "    </tr>\n",
       "  </thead>\n",
       "  <tbody>\n",
       "    <tr>\n",
       "      <th>Bank transfer</th>\n",
       "      <td>0.180250</td>\n",
       "      <td>-0.001469</td>\n",
       "      <td>0.991916</td>\n",
       "    </tr>\n",
       "    <tr>\n",
       "      <th>Credit card</th>\n",
       "      <td>0.163480</td>\n",
       "      <td>-0.018239</td>\n",
       "      <td>0.899630</td>\n",
       "    </tr>\n",
       "    <tr>\n",
       "      <th>Electronic check</th>\n",
       "      <td>0.192088</td>\n",
       "      <td>0.010369</td>\n",
       "      <td>1.057058</td>\n",
       "    </tr>\n",
       "    <tr>\n",
       "      <th>Mailed check</th>\n",
       "      <td>0.190996</td>\n",
       "      <td>0.009277</td>\n",
       "      <td>1.051049</td>\n",
       "    </tr>\n",
       "  </tbody>\n",
       "</table>\n",
       "</div>"
      ],
      "text/plain": [
       "                      mean      diff      risk\n",
       "PaymentMethod                                 \n",
       "Bank transfer     0.180250 -0.001469  0.991916\n",
       "Credit card       0.163480 -0.018239  0.899630\n",
       "Electronic check  0.192088  0.010369  1.057058\n",
       "Mailed check      0.190996  0.009277  1.051049"
      ]
     },
     "metadata": {},
     "output_type": "display_data"
    },
    {
     "data": {
      "text/html": [
       "<div>\n",
       "<style scoped>\n",
       "    .dataframe tbody tr th:only-of-type {\n",
       "        vertical-align: middle;\n",
       "    }\n",
       "\n",
       "    .dataframe tbody tr th {\n",
       "        vertical-align: top;\n",
       "    }\n",
       "\n",
       "    .dataframe thead th {\n",
       "        text-align: right;\n",
       "    }\n",
       "</style>\n",
       "<table border=\"1\" class=\"dataframe\">\n",
       "  <thead>\n",
       "    <tr style=\"text-align: right;\">\n",
       "      <th></th>\n",
       "      <th>mean</th>\n",
       "      <th>diff</th>\n",
       "      <th>risk</th>\n",
       "    </tr>\n",
       "    <tr>\n",
       "      <th>PaperlessBilling</th>\n",
       "      <th></th>\n",
       "      <th></th>\n",
       "      <th></th>\n",
       "    </tr>\n",
       "  </thead>\n",
       "  <tbody>\n",
       "    <tr>\n",
       "      <th>0</th>\n",
       "      <td>0.182673</td>\n",
       "      <td>0.000954</td>\n",
       "      <td>1.005249</td>\n",
       "    </tr>\n",
       "    <tr>\n",
       "      <th>1</th>\n",
       "      <td>0.180764</td>\n",
       "      <td>-0.000955</td>\n",
       "      <td>0.994743</td>\n",
       "    </tr>\n",
       "  </tbody>\n",
       "</table>\n",
       "</div>"
      ],
      "text/plain": [
       "                      mean      diff      risk\n",
       "PaperlessBilling                              \n",
       "0                 0.182673  0.000954  1.005249\n",
       "1                 0.180764 -0.000955  0.994743"
      ]
     },
     "metadata": {},
     "output_type": "display_data"
    },
    {
     "data": {
      "text/html": [
       "<div>\n",
       "<style scoped>\n",
       "    .dataframe tbody tr th:only-of-type {\n",
       "        vertical-align: middle;\n",
       "    }\n",
       "\n",
       "    .dataframe tbody tr th {\n",
       "        vertical-align: top;\n",
       "    }\n",
       "\n",
       "    .dataframe thead th {\n",
       "        text-align: right;\n",
       "    }\n",
       "</style>\n",
       "<table border=\"1\" class=\"dataframe\">\n",
       "  <thead>\n",
       "    <tr style=\"text-align: right;\">\n",
       "      <th></th>\n",
       "      <th>mean</th>\n",
       "      <th>diff</th>\n",
       "      <th>risk</th>\n",
       "    </tr>\n",
       "    <tr>\n",
       "      <th>ContentType</th>\n",
       "      <th></th>\n",
       "      <th></th>\n",
       "      <th></th>\n",
       "    </tr>\n",
       "  </thead>\n",
       "  <tbody>\n",
       "    <tr>\n",
       "      <th>Both</th>\n",
       "      <td>0.189079</td>\n",
       "      <td>0.007360</td>\n",
       "      <td>1.040503</td>\n",
       "    </tr>\n",
       "    <tr>\n",
       "      <th>Movies</th>\n",
       "      <td>0.178415</td>\n",
       "      <td>-0.003304</td>\n",
       "      <td>0.981820</td>\n",
       "    </tr>\n",
       "    <tr>\n",
       "      <th>TV Shows</th>\n",
       "      <td>0.177597</td>\n",
       "      <td>-0.004122</td>\n",
       "      <td>0.977317</td>\n",
       "    </tr>\n",
       "  </tbody>\n",
       "</table>\n",
       "</div>"
      ],
      "text/plain": [
       "                 mean      diff      risk\n",
       "ContentType                              \n",
       "Both         0.189079  0.007360  1.040503\n",
       "Movies       0.178415 -0.003304  0.981820\n",
       "TV Shows     0.177597 -0.004122  0.977317"
      ]
     },
     "metadata": {},
     "output_type": "display_data"
    },
    {
     "data": {
      "text/html": [
       "<div>\n",
       "<style scoped>\n",
       "    .dataframe tbody tr th:only-of-type {\n",
       "        vertical-align: middle;\n",
       "    }\n",
       "\n",
       "    .dataframe tbody tr th {\n",
       "        vertical-align: top;\n",
       "    }\n",
       "\n",
       "    .dataframe thead th {\n",
       "        text-align: right;\n",
       "    }\n",
       "</style>\n",
       "<table border=\"1\" class=\"dataframe\">\n",
       "  <thead>\n",
       "    <tr style=\"text-align: right;\">\n",
       "      <th></th>\n",
       "      <th>mean</th>\n",
       "      <th>diff</th>\n",
       "      <th>risk</th>\n",
       "    </tr>\n",
       "    <tr>\n",
       "      <th>MultiDeviceAccess</th>\n",
       "      <th></th>\n",
       "      <th></th>\n",
       "      <th></th>\n",
       "    </tr>\n",
       "  </thead>\n",
       "  <tbody>\n",
       "    <tr>\n",
       "      <th>0</th>\n",
       "      <td>0.181413</td>\n",
       "      <td>-0.000306</td>\n",
       "      <td>0.998317</td>\n",
       "    </tr>\n",
       "    <tr>\n",
       "      <th>1</th>\n",
       "      <td>0.182025</td>\n",
       "      <td>0.000306</td>\n",
       "      <td>1.001682</td>\n",
       "    </tr>\n",
       "  </tbody>\n",
       "</table>\n",
       "</div>"
      ],
      "text/plain": [
       "                       mean      diff      risk\n",
       "MultiDeviceAccess                              \n",
       "0                  0.181413 -0.000306  0.998317\n",
       "1                  0.182025  0.000306  1.001682"
      ]
     },
     "metadata": {},
     "output_type": "display_data"
    },
    {
     "data": {
      "text/html": [
       "<div>\n",
       "<style scoped>\n",
       "    .dataframe tbody tr th:only-of-type {\n",
       "        vertical-align: middle;\n",
       "    }\n",
       "\n",
       "    .dataframe tbody tr th {\n",
       "        vertical-align: top;\n",
       "    }\n",
       "\n",
       "    .dataframe thead th {\n",
       "        text-align: right;\n",
       "    }\n",
       "</style>\n",
       "<table border=\"1\" class=\"dataframe\">\n",
       "  <thead>\n",
       "    <tr style=\"text-align: right;\">\n",
       "      <th></th>\n",
       "      <th>mean</th>\n",
       "      <th>diff</th>\n",
       "      <th>risk</th>\n",
       "    </tr>\n",
       "    <tr>\n",
       "      <th>DeviceRegistered</th>\n",
       "      <th></th>\n",
       "      <th></th>\n",
       "      <th></th>\n",
       "    </tr>\n",
       "  </thead>\n",
       "  <tbody>\n",
       "    <tr>\n",
       "      <th>Computer</th>\n",
       "      <td>0.181391</td>\n",
       "      <td>-0.000328</td>\n",
       "      <td>0.998193</td>\n",
       "    </tr>\n",
       "    <tr>\n",
       "      <th>Mobile</th>\n",
       "      <td>0.184144</td>\n",
       "      <td>0.002424</td>\n",
       "      <td>1.013342</td>\n",
       "    </tr>\n",
       "    <tr>\n",
       "      <th>TV</th>\n",
       "      <td>0.179235</td>\n",
       "      <td>-0.002485</td>\n",
       "      <td>0.986328</td>\n",
       "    </tr>\n",
       "    <tr>\n",
       "      <th>Tablet</th>\n",
       "      <td>0.182092</td>\n",
       "      <td>0.000373</td>\n",
       "      <td>1.002054</td>\n",
       "    </tr>\n",
       "  </tbody>\n",
       "</table>\n",
       "</div>"
      ],
      "text/plain": [
       "                      mean      diff      risk\n",
       "DeviceRegistered                              \n",
       "Computer          0.181391 -0.000328  0.998193\n",
       "Mobile            0.184144  0.002424  1.013342\n",
       "TV                0.179235 -0.002485  0.986328\n",
       "Tablet            0.182092  0.000373  1.002054"
      ]
     },
     "metadata": {},
     "output_type": "display_data"
    },
    {
     "data": {
      "text/html": [
       "<div>\n",
       "<style scoped>\n",
       "    .dataframe tbody tr th:only-of-type {\n",
       "        vertical-align: middle;\n",
       "    }\n",
       "\n",
       "    .dataframe tbody tr th {\n",
       "        vertical-align: top;\n",
       "    }\n",
       "\n",
       "    .dataframe thead th {\n",
       "        text-align: right;\n",
       "    }\n",
       "</style>\n",
       "<table border=\"1\" class=\"dataframe\">\n",
       "  <thead>\n",
       "    <tr style=\"text-align: right;\">\n",
       "      <th></th>\n",
       "      <th>mean</th>\n",
       "      <th>diff</th>\n",
       "      <th>risk</th>\n",
       "    </tr>\n",
       "    <tr>\n",
       "      <th>GenrePreference</th>\n",
       "      <th></th>\n",
       "      <th></th>\n",
       "      <th></th>\n",
       "    </tr>\n",
       "  </thead>\n",
       "  <tbody>\n",
       "    <tr>\n",
       "      <th>Action</th>\n",
       "      <td>0.167590</td>\n",
       "      <td>-0.014129</td>\n",
       "      <td>0.922249</td>\n",
       "    </tr>\n",
       "    <tr>\n",
       "      <th>Comedy</th>\n",
       "      <td>0.193974</td>\n",
       "      <td>0.012255</td>\n",
       "      <td>1.067440</td>\n",
       "    </tr>\n",
       "    <tr>\n",
       "      <th>Drama</th>\n",
       "      <td>0.179094</td>\n",
       "      <td>-0.002625</td>\n",
       "      <td>0.985552</td>\n",
       "    </tr>\n",
       "    <tr>\n",
       "      <th>Fantasy</th>\n",
       "      <td>0.176687</td>\n",
       "      <td>-0.005032</td>\n",
       "      <td>0.972307</td>\n",
       "    </tr>\n",
       "    <tr>\n",
       "      <th>Sci-Fi</th>\n",
       "      <td>0.191325</td>\n",
       "      <td>0.009606</td>\n",
       "      <td>1.052860</td>\n",
       "    </tr>\n",
       "  </tbody>\n",
       "</table>\n",
       "</div>"
      ],
      "text/plain": [
       "                     mean      diff      risk\n",
       "GenrePreference                              \n",
       "Action           0.167590 -0.014129  0.922249\n",
       "Comedy           0.193974  0.012255  1.067440\n",
       "Drama            0.179094 -0.002625  0.985552\n",
       "Fantasy          0.176687 -0.005032  0.972307\n",
       "Sci-Fi           0.191325  0.009606  1.052860"
      ]
     },
     "metadata": {},
     "output_type": "display_data"
    },
    {
     "data": {
      "text/html": [
       "<div>\n",
       "<style scoped>\n",
       "    .dataframe tbody tr th:only-of-type {\n",
       "        vertical-align: middle;\n",
       "    }\n",
       "\n",
       "    .dataframe tbody tr th {\n",
       "        vertical-align: top;\n",
       "    }\n",
       "\n",
       "    .dataframe thead th {\n",
       "        text-align: right;\n",
       "    }\n",
       "</style>\n",
       "<table border=\"1\" class=\"dataframe\">\n",
       "  <thead>\n",
       "    <tr style=\"text-align: right;\">\n",
       "      <th></th>\n",
       "      <th>mean</th>\n",
       "      <th>diff</th>\n",
       "      <th>risk</th>\n",
       "    </tr>\n",
       "    <tr>\n",
       "      <th>Gender</th>\n",
       "      <th></th>\n",
       "      <th></th>\n",
       "      <th></th>\n",
       "    </tr>\n",
       "  </thead>\n",
       "  <tbody>\n",
       "    <tr>\n",
       "      <th>Female</th>\n",
       "      <td>0.178315</td>\n",
       "      <td>-0.003404</td>\n",
       "      <td>0.981266</td>\n",
       "    </tr>\n",
       "    <tr>\n",
       "      <th>Male</th>\n",
       "      <td>0.185133</td>\n",
       "      <td>0.003414</td>\n",
       "      <td>1.018785</td>\n",
       "    </tr>\n",
       "  </tbody>\n",
       "</table>\n",
       "</div>"
      ],
      "text/plain": [
       "            mean      diff      risk\n",
       "Gender                              \n",
       "Female  0.178315 -0.003404  0.981266\n",
       "Male    0.185133  0.003414  1.018785"
      ]
     },
     "metadata": {},
     "output_type": "display_data"
    },
    {
     "data": {
      "text/html": [
       "<div>\n",
       "<style scoped>\n",
       "    .dataframe tbody tr th:only-of-type {\n",
       "        vertical-align: middle;\n",
       "    }\n",
       "\n",
       "    .dataframe tbody tr th {\n",
       "        vertical-align: top;\n",
       "    }\n",
       "\n",
       "    .dataframe thead th {\n",
       "        text-align: right;\n",
       "    }\n",
       "</style>\n",
       "<table border=\"1\" class=\"dataframe\">\n",
       "  <thead>\n",
       "    <tr style=\"text-align: right;\">\n",
       "      <th></th>\n",
       "      <th>mean</th>\n",
       "      <th>diff</th>\n",
       "      <th>risk</th>\n",
       "    </tr>\n",
       "    <tr>\n",
       "      <th>ParentalControl</th>\n",
       "      <th></th>\n",
       "      <th></th>\n",
       "      <th></th>\n",
       "    </tr>\n",
       "  </thead>\n",
       "  <tbody>\n",
       "    <tr>\n",
       "      <th>0</th>\n",
       "      <td>0.183557</td>\n",
       "      <td>0.001838</td>\n",
       "      <td>1.010112</td>\n",
       "    </tr>\n",
       "    <tr>\n",
       "      <th>1</th>\n",
       "      <td>0.179887</td>\n",
       "      <td>-0.001832</td>\n",
       "      <td>0.989918</td>\n",
       "    </tr>\n",
       "  </tbody>\n",
       "</table>\n",
       "</div>"
      ],
      "text/plain": [
       "                     mean      diff      risk\n",
       "ParentalControl                              \n",
       "0                0.183557  0.001838  1.010112\n",
       "1                0.179887 -0.001832  0.989918"
      ]
     },
     "metadata": {},
     "output_type": "display_data"
    },
    {
     "data": {
      "text/html": [
       "<div>\n",
       "<style scoped>\n",
       "    .dataframe tbody tr th:only-of-type {\n",
       "        vertical-align: middle;\n",
       "    }\n",
       "\n",
       "    .dataframe tbody tr th {\n",
       "        vertical-align: top;\n",
       "    }\n",
       "\n",
       "    .dataframe thead th {\n",
       "        text-align: right;\n",
       "    }\n",
       "</style>\n",
       "<table border=\"1\" class=\"dataframe\">\n",
       "  <thead>\n",
       "    <tr style=\"text-align: right;\">\n",
       "      <th></th>\n",
       "      <th>mean</th>\n",
       "      <th>diff</th>\n",
       "      <th>risk</th>\n",
       "    </tr>\n",
       "    <tr>\n",
       "      <th>SubtitlesEnabled</th>\n",
       "      <th></th>\n",
       "      <th></th>\n",
       "      <th></th>\n",
       "    </tr>\n",
       "  </thead>\n",
       "  <tbody>\n",
       "    <tr>\n",
       "      <th>0</th>\n",
       "      <td>0.186905</td>\n",
       "      <td>0.005185</td>\n",
       "      <td>1.028535</td>\n",
       "    </tr>\n",
       "    <tr>\n",
       "      <th>1</th>\n",
       "      <td>0.176570</td>\n",
       "      <td>-0.005149</td>\n",
       "      <td>0.971665</td>\n",
       "    </tr>\n",
       "  </tbody>\n",
       "</table>\n",
       "</div>"
      ],
      "text/plain": [
       "                      mean      diff      risk\n",
       "SubtitlesEnabled                              \n",
       "0                 0.186905  0.005185  1.028535\n",
       "1                 0.176570 -0.005149  0.971665"
      ]
     },
     "metadata": {},
     "output_type": "display_data"
    }
   ],
   "source": [
    "#Calculate feature importance for categoraical\n",
    "for col in categorical:\n",
    "    df_group = train.groupby(by=col).Churn.agg(['mean'])\n",
    "    df_group['diff'] = df_group['mean'] - global_mean\n",
    "    df_group['risk'] = df_group['mean'] / global_mean\n",
    "    display(df_group)"
   ]
  },
  {
   "cell_type": "code",
   "execution_count": 390,
   "id": "7fa7e0c6-0524-4e52-a11c-1236aba861ba",
   "metadata": {
    "tags": []
   },
   "outputs": [],
   "source": [
    "df_group = train.groupby(['ContentDownloadsPerMonth'], as_index=False)['Churn'].mean()"
   ]
  },
  {
   "cell_type": "code",
   "execution_count": 391,
   "id": "0b626d90-58de-45e6-a3db-9f9de569f90a",
   "metadata": {
    "tags": []
   },
   "outputs": [
    {
     "data": {
      "image/png": "[encoded data removed]",
      "text/plain": [
       "<Figure size 640x480 with 1 Axes>"
      ]
     },
     "metadata": {},
     "output_type": "display_data"
    }
   ],
   "source": [
    "plt.bar(df_group['ContentDownloadsPerMonth'], df_group['Churn'], align='center')\n",
    "plt.xlabel('ContentDownloadsPerMonth') \n",
    "plt.ylabel('Mean Churn')\n",
    "plt.title('Mean Churn per ContentDownloadsPerMonth')\n",
    "plt.show()"
   ]
  },
  {
   "cell_type": "markdown",
   "id": "5cf855ff-64c7-4583-8c20-985aab862062",
   "metadata": {},
   "source": [
    "# Model training - Classification"
   ]
  },
  {
   "cell_type": "code",
   "execution_count": 424,
   "id": "0714ada3-3fa0-4c73-9382-3c8147bbc313",
   "metadata": {
    "tags": []
   },
   "outputs": [],
   "source": [
    "def train(df, y, C=10):\n",
    "    dct = df[categorical+numerical].to_dict(orient='records')\n",
    "    #Prepare one-hot encoding for train and validation datasets\n",
    "    dv = DictVectorizer(sparse=False)\n",
    "    X = dv.fit_transform(dct)\n",
    "    #Train logistic regression model\n",
    "    model = LogisticRegression(solver='liblinear', C=C, max_iter=1000, random_state=42)\n",
    "    model.fit(X, y)\n",
    "    return dv, model\n",
    "\n",
    "\n",
    "def predict(df, dv, model):\n",
    "    dct = df[categorical+numerical].to_dict(orient='records')\n",
    "    X = dv.transform(dct)\n",
    "    #Predict Churn rate for validation dataset\n",
    "    y_pred = model.predict_proba(X)[:, 1]\n",
    "    return y_pred"
   ]
  },
  {
   "cell_type": "code",
   "execution_count": 430,
   "id": "e6878015-6ec9-45e4-85e5-dac0ef164507",
   "metadata": {
    "tags": []
   },
   "outputs": [],
   "source": [
    "dv, model_C_10 = train(df_train, y_train, 10)\n",
    "y_pred = predict(df_val, dv, model_C_10)"
   ]
  },
  {
   "cell_type": "code",
   "execution_count": 431,
   "id": "f1914382-9ac3-4bcb-b2e4-3b5f3109d56f",
   "metadata": {
    "tags": []
   },
   "outputs": [
    {
     "name": "stdout",
     "output_type": "stream",
     "text": [
      "auc = 0.754\n"
     ]
    }
   ],
   "source": [
    "auc = roc_auc_score(y_val, y_pred)\n",
    "print('auc = %.3f' % auc)"
   ]
  },
  {
   "cell_type": "markdown",
   "id": "35010b26-af2b-46d1-83c4-979c1a69d5a9",
   "metadata": {},
   "source": [
    "# Tried multiple thresholds"
   ]
  },
  {
   "cell_type": "code",
   "execution_count": 419,
   "id": "f4db5eab-5ca5-4ccf-a6b1-dc8d73f5594a",
   "metadata": {
    "tags": []
   },
   "outputs": [
    {
     "name": "stdout",
     "output_type": "stream",
     "text": [
      "0.00 0.183\n",
      "0.05 0.301\n",
      "0.10 0.486\n",
      "0.15 0.616\n",
      "0.20 0.704\n",
      "0.25 0.760\n",
      "0.30 0.794\n",
      "0.35 0.811\n",
      "0.40 0.820\n",
      "0.45 0.824\n",
      "0.50 0.824\n",
      "0.55 0.824\n",
      "0.60 0.821\n",
      "0.65 0.819\n",
      "0.70 0.818\n",
      "0.75 0.817\n",
      "0.80 0.817\n",
      "0.85 0.817\n",
      "0.90 0.817\n",
      "0.95 0.817\n",
      "1.00 0.817\n"
     ]
    }
   ],
   "source": [
    "#Accuracies\n",
    "scores = []\n",
    "tresholdes = np.linspace(0,1,21)\n",
    "\n",
    "for t in tresholdes:\n",
    "    acc = accuracy_score(y_val, y_pred >= t)\n",
    "    accuracies.append(acc)\n",
    "    print('%0.2f %0.3f' % (t, acc))"
   ]
  },
  {
   "cell_type": "code",
   "execution_count": 408,
   "id": "833420e5-f9c6-4beb-aca4-0ea9dd546f5f",
   "metadata": {
    "tags": []
   },
   "outputs": [],
   "source": [
    "scores = []\n",
    "\n",
    "thresholds = np.linspace(0, 1, 101)\n",
    "\n",
    "for t in thresholds: #B\n",
    "    tp = ((y_pred >= t) & (y_val == 1)).sum()\n",
    "    fp = ((y_pred >= t) & (y_val == 0)).sum()\n",
    "    fn = ((y_pred < t) & (y_val == 1)).sum()\n",
    "    tn = ((y_pred < t) & (y_val == 0)).sum()\n",
    "    scores.append((t, tp, fp, fn, tn))\n",
    "\n",
    "df_scores = pd.DataFrame(scores)\n",
    "df_scores.columns = ['threshold', 'tp', 'fp', 'fn', 'tn']\n",
    "\n",
    "df_scores['tpr'] = df_scores.tp / (df_scores.tp + df_scores.fn)\n",
    "df_scores['fpr'] = df_scores.fp / (df_scores.fp + df_scores.tn)"
   ]
  },
  {
   "cell_type": "code",
   "execution_count": 413,
   "id": "46611fe9-dc8c-4b6b-9d60-a1a242c88534",
   "metadata": {
    "tags": []
   },
   "outputs": [
    {
     "data": {
      "text/html": [
       "<div>\n",
       "<style scoped>\n",
       "    .dataframe tbody tr th:only-of-type {\n",
       "        vertical-align: middle;\n",
       "    }\n",
       "\n",
       "    .dataframe tbody tr th {\n",
       "        vertical-align: top;\n",
       "    }\n",
       "\n",
       "    .dataframe thead th {\n",
       "        text-align: right;\n",
       "    }\n",
       "</style>\n",
       "<table border=\"1\" class=\"dataframe\">\n",
       "  <thead>\n",
       "    <tr style=\"text-align: right;\">\n",
       "      <th></th>\n",
       "      <th>threshold</th>\n",
       "      <th>tp</th>\n",
       "      <th>fp</th>\n",
       "      <th>fn</th>\n",
       "      <th>tn</th>\n",
       "      <th>tpr</th>\n",
       "      <th>fpr</th>\n",
       "    </tr>\n",
       "  </thead>\n",
       "  <tbody>\n",
       "    <tr>\n",
       "      <th>0</th>\n",
       "      <td>0.0</td>\n",
       "      <td>5342</td>\n",
       "      <td>23858</td>\n",
       "      <td>0</td>\n",
       "      <td>0</td>\n",
       "      <td>1.000000</td>\n",
       "      <td>1.000000</td>\n",
       "    </tr>\n",
       "    <tr>\n",
       "      <th>10</th>\n",
       "      <td>0.1</td>\n",
       "      <td>4773</td>\n",
       "      <td>14446</td>\n",
       "      <td>569</td>\n",
       "      <td>9412</td>\n",
       "      <td>0.893486</td>\n",
       "      <td>0.605499</td>\n",
       "    </tr>\n",
       "    <tr>\n",
       "      <th>20</th>\n",
       "      <td>0.2</td>\n",
       "      <td>3532</td>\n",
       "      <td>6831</td>\n",
       "      <td>1810</td>\n",
       "      <td>17027</td>\n",
       "      <td>0.661176</td>\n",
       "      <td>0.286319</td>\n",
       "    </tr>\n",
       "    <tr>\n",
       "      <th>30</th>\n",
       "      <td>0.3</td>\n",
       "      <td>2285</td>\n",
       "      <td>2964</td>\n",
       "      <td>3057</td>\n",
       "      <td>20894</td>\n",
       "      <td>0.427742</td>\n",
       "      <td>0.124235</td>\n",
       "    </tr>\n",
       "    <tr>\n",
       "      <th>40</th>\n",
       "      <td>0.4</td>\n",
       "      <td>1278</td>\n",
       "      <td>1189</td>\n",
       "      <td>4064</td>\n",
       "      <td>22669</td>\n",
       "      <td>0.239236</td>\n",
       "      <td>0.049837</td>\n",
       "    </tr>\n",
       "    <tr>\n",
       "      <th>50</th>\n",
       "      <td>0.5</td>\n",
       "      <td>637</td>\n",
       "      <td>424</td>\n",
       "      <td>4705</td>\n",
       "      <td>23434</td>\n",
       "      <td>0.119244</td>\n",
       "      <td>0.017772</td>\n",
       "    </tr>\n",
       "    <tr>\n",
       "      <th>60</th>\n",
       "      <td>0.6</td>\n",
       "      <td>228</td>\n",
       "      <td>105</td>\n",
       "      <td>5114</td>\n",
       "      <td>23753</td>\n",
       "      <td>0.042681</td>\n",
       "      <td>0.004401</td>\n",
       "    </tr>\n",
       "    <tr>\n",
       "      <th>70</th>\n",
       "      <td>0.7</td>\n",
       "      <td>41</td>\n",
       "      <td>18</td>\n",
       "      <td>5301</td>\n",
       "      <td>23840</td>\n",
       "      <td>0.007675</td>\n",
       "      <td>0.000754</td>\n",
       "    </tr>\n",
       "    <tr>\n",
       "      <th>80</th>\n",
       "      <td>0.8</td>\n",
       "      <td>3</td>\n",
       "      <td>1</td>\n",
       "      <td>5339</td>\n",
       "      <td>23857</td>\n",
       "      <td>0.000562</td>\n",
       "      <td>0.000042</td>\n",
       "    </tr>\n",
       "    <tr>\n",
       "      <th>90</th>\n",
       "      <td>0.9</td>\n",
       "      <td>0</td>\n",
       "      <td>0</td>\n",
       "      <td>5342</td>\n",
       "      <td>23858</td>\n",
       "      <td>0.000000</td>\n",
       "      <td>0.000000</td>\n",
       "    </tr>\n",
       "    <tr>\n",
       "      <th>100</th>\n",
       "      <td>1.0</td>\n",
       "      <td>0</td>\n",
       "      <td>0</td>\n",
       "      <td>5342</td>\n",
       "      <td>23858</td>\n",
       "      <td>0.000000</td>\n",
       "      <td>0.000000</td>\n",
       "    </tr>\n",
       "  </tbody>\n",
       "</table>\n",
       "</div>"
      ],
      "text/plain": [
       "     threshold    tp     fp    fn     tn       tpr       fpr\n",
       "0          0.0  5342  23858     0      0  1.000000  1.000000\n",
       "10         0.1  4773  14446   569   9412  0.893486  0.605499\n",
       "20         0.2  3532   6831  1810  17027  0.661176  0.286319\n",
       "30         0.3  2285   2964  3057  20894  0.427742  0.124235\n",
       "40         0.4  1278   1189  4064  22669  0.239236  0.049837\n",
       "50         0.5   637    424  4705  23434  0.119244  0.017772\n",
       "60         0.6   228    105  5114  23753  0.042681  0.004401\n",
       "70         0.7    41     18  5301  23840  0.007675  0.000754\n",
       "80         0.8     3      1  5339  23857  0.000562  0.000042\n",
       "90         0.9     0      0  5342  23858  0.000000  0.000000\n",
       "100        1.0     0      0  5342  23858  0.000000  0.000000"
      ]
     },
     "execution_count": 413,
     "metadata": {},
     "output_type": "execute_result"
    }
   ],
   "source": [
    "df_scores[::10]"
   ]
  },
  {
   "cell_type": "code",
   "execution_count": 3,
   "id": "cef14a40-8b21-4107-bd82-a55a75b881b4",
   "metadata": {
    "tags": []
   },
   "outputs": [
    {
     "ename": "NameError",
     "evalue": "name 'plt' is not defined",
     "output_type": "error",
     "traceback": [
      "\u001b[1;31m---------------------------------------------------------------------------\u001b[0m",
      "\u001b[1;31mNameError\u001b[0m                                 Traceback (most recent call last)",
      "Cell \u001b[1;32mIn[3], line 1\u001b[0m\n\u001b[1;32m----> 1\u001b[0m plt\u001b[38;5;241m.\u001b[39mfigure(figsize\u001b[38;5;241m=\u001b[39m(\u001b[38;5;241m6\u001b[39m, \u001b[38;5;241m4\u001b[39m))\n\u001b[0;32m      3\u001b[0m plt\u001b[38;5;241m.\u001b[39mplot(df_scores\u001b[38;5;241m.\u001b[39mthreshold, df_scores\u001b[38;5;241m.\u001b[39mtpr, color\u001b[38;5;241m=\u001b[39m\u001b[38;5;124m'\u001b[39m\u001b[38;5;124mblack\u001b[39m\u001b[38;5;124m'\u001b[39m, linestyle\u001b[38;5;241m=\u001b[39m\u001b[38;5;124m'\u001b[39m\u001b[38;5;124msolid\u001b[39m\u001b[38;5;124m'\u001b[39m, label\u001b[38;5;241m=\u001b[39m\u001b[38;5;124m'\u001b[39m\u001b[38;5;124mTPR\u001b[39m\u001b[38;5;124m'\u001b[39m)\n\u001b[0;32m      4\u001b[0m plt\u001b[38;5;241m.\u001b[39mplot(df_scores\u001b[38;5;241m.\u001b[39mthreshold, df_scores\u001b[38;5;241m.\u001b[39mfpr, color\u001b[38;5;241m=\u001b[39m\u001b[38;5;124m'\u001b[39m\u001b[38;5;124mblack\u001b[39m\u001b[38;5;124m'\u001b[39m, linestyle\u001b[38;5;241m=\u001b[39m\u001b[38;5;124m'\u001b[39m\u001b[38;5;124mdashed\u001b[39m\u001b[38;5;124m'\u001b[39m, label\u001b[38;5;241m=\u001b[39m\u001b[38;5;124m'\u001b[39m\u001b[38;5;124mFPR\u001b[39m\u001b[38;5;124m'\u001b[39m)\n",
      "\u001b[1;31mNameError\u001b[0m: name 'plt' is not defined"
     ]
    }
   ],
   "source": [
    "plt.figure(figsize=(6, 4))\n",
    "\n",
    "plt.plot(df_scores.threshold, df_scores.tpr, color='black', linestyle='solid', label='TPR')\n",
    "plt.plot(df_scores.threshold, df_scores.fpr, color='black', linestyle='dashed', label='FPR')\n",
    "plt.legend()\n",
    "\n",
    "plt.xticks(np.linspace(0, 1, 11))\n",
    "plt.yticks(np.linspace(0, 1, 11))\n",
    "\n",
    "plt.vlines(1 - y_val.mean(), -1, 2, linewidth=0.5, linestyle='dashed', color='grey')\n",
    "plt.ylim(-0.03, 1.03)\n",
    "\n",
    "plt.xlabel('Thresholds')\n",
    "plt.title('TPR and FPR for the linear model')\n",
    "\n",
    "plt.show()"
   ]
  },
  {
   "cell_type": "markdown",
   "id": "bb59d824-7654-4cc8-8114-8bde0ed6ceb8",
   "metadata": {},
   "source": [
    "# Load the model"
   ]
  },
  {
   "cell_type": "code",
   "execution_count": 427,
   "id": "bcf8b739-5081-44a5-8bdc-395e9be4ca19",
   "metadata": {
    "tags": []
   },
   "outputs": [],
   "source": [
    "import pickle"
   ]
  },
  {
   "cell_type": "code",
   "execution_count": 432,
   "id": "c2755ecc-b478-46ce-84e2-d45de7af5587",
   "metadata": {
    "tags": []
   },
   "outputs": [],
   "source": [
    "model_C_10_file = 'model_C=10.bin'"
   ]
  },
  {
   "cell_type": "code",
   "execution_count": 433,
   "id": "88d19f53-3f51-43b1-a748-13a6121926a7",
   "metadata": {
    "tags": []
   },
   "outputs": [],
   "source": [
    "with open(model_C_10_file, 'wb') as f_out: # 'wb' means write-\n",
    "    pickle.dump((dv, model_C_10), f_out)"
   ]
  },
  {
   "cell_type": "markdown",
   "id": "b73b9c61-f4a9-4446-a41e-4e4e5dc07a36",
   "metadata": {
    "tags": []
   },
   "source": [
    "#Restart the Kernel here"
   ]
  },
  {
   "cell_type": "code",
   "execution_count": 1,
   "id": "d160bf32-50e0-4bf7-b650-db56f9a00739",
   "metadata": {
    "tags": []
   },
   "outputs": [],
   "source": [
    "import pickle\n",
    "\n",
    "model_C_10_file = 'model_C=10.bin'\n",
    "\n",
    "with open(model_C_10_file, 'rb') as f_in: # very important to use 'rb' here, it means read-binary \n",
    "    dv, model_C_10_file = pickle.load(f_in)"
   ]
  },
  {
   "cell_type": "code",
   "execution_count": 2,
   "id": "1ebd7485-4934-4864-be5d-ca0229d6655b",
   "metadata": {
    "tags": []
   },
   "outputs": [
    {
     "data": {
      "text/plain": [
       "(DictVectorizer(sparse=False),\n",
       " LogisticRegression(C=10, max_iter=1000, random_state=42, solver='liblinear'))"
      ]
     },
     "execution_count": 2,
     "metadata": {},
     "output_type": "execute_result"
    }
   ],
   "source": [
    "dv, model_C_10_file"
   ]
  },
  {
   "cell_type": "code",
   "execution_count": null,
   "id": "796aac76-b191-418b-9064-f82f4c2bccd5",
   "metadata": {},
   "outputs": [],
   "source": []
  }
 ],
 "metadata": {
  "kernelspec": {
   "display_name": "Python 3 (ipykernel)",
   "language": "python",
   "name": "python3"
  },
  "language_info": {
   "codemirror_mode": {
    "name": "ipython",
    "version": 3
   },
   "file_extension": ".py",
   "mimetype": "text/x-python",
   "name": "python",
   "nbconvert_exporter": "python",
   "pygments_lexer": "ipython3",
   "version": "3.11.4"
  }
 },
 "nbformat": 4,
 "nbformat_minor": 5
}
